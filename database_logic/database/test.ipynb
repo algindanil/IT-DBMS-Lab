{
 "cells": [
  {
   "cell_type": "code",
   "execution_count": 1,
   "id": "initial_id",
   "metadata": {
    "collapsed": true,
    "ExecuteTime": {
     "end_time": "2024-10-16T00:39:11.914094800Z",
     "start_time": "2024-10-16T00:39:11.031199100Z"
    }
   },
   "outputs": [],
   "source": [
    "from table import Table\n",
    "from table_schema import generate_schema\n",
    "import pandas as pd\n",
    "\n",
    "\n",
    "from pydantic import BaseModel, Field, constr, conint\n",
    "from datetime import datetime\n",
    "from typing import List, Optional"
   ]
  },
  {
   "cell_type": "code",
   "execution_count": 2,
   "outputs": [
    {
     "ename": "AttributeError",
     "evalue": "__validators__",
     "output_type": "error",
     "traceback": [
      "\u001B[0;31m---------------------------------------------------------------------------\u001B[0m",
      "\u001B[0;31mAttributeError\u001B[0m                            Traceback (most recent call last)",
      "Cell \u001B[0;32mIn[2], line 1\u001B[0m\n\u001B[0;32m----> 1\u001B[0m test_schema \u001B[38;5;241m=\u001B[39m generate_schema(\u001B[38;5;124m'\u001B[39m\u001B[38;5;124mtest_table\u001B[39m\u001B[38;5;124m'\u001B[39m, {\n\u001B[1;32m      2\u001B[0m         \u001B[38;5;124m\"\u001B[39m\u001B[38;5;124muser_id\u001B[39m\u001B[38;5;124m\"\u001B[39m: \u001B[38;5;124m\"\u001B[39m\u001B[38;5;124mint\u001B[39m\u001B[38;5;124m\"\u001B[39m,\n\u001B[1;32m      3\u001B[0m         \u001B[38;5;124m\"\u001B[39m\u001B[38;5;124musername\u001B[39m\u001B[38;5;124m\"\u001B[39m: \u001B[38;5;124m\"\u001B[39m\u001B[38;5;124mstring\u001B[39m\u001B[38;5;124m\"\u001B[39m,\n\u001B[1;32m      4\u001B[0m         \u001B[38;5;124m\"\u001B[39m\u001B[38;5;124mdateinvl\u001B[39m\u001B[38;5;124m\"\u001B[39m: \u001B[38;5;124m\"\u001B[39m\u001B[38;5;124mdateinvl\u001B[39m\u001B[38;5;124m\"\u001B[39m,\n\u001B[1;32m      5\u001B[0m         \u001B[38;5;124m\"\u001B[39m\u001B[38;5;124msignup_date\u001B[39m\u001B[38;5;124m\"\u001B[39m: \u001B[38;5;124m\"\u001B[39m\u001B[38;5;124mdatetime\u001B[39m\u001B[38;5;124m\"\u001B[39m\n\u001B[1;32m      6\u001B[0m     })\n",
      "File \u001B[0;32m/mnt/e/Uni/IT/database_logic/database/table_schema.py:37\u001B[0m, in \u001B[0;36mgenerate_schema\u001B[0;34m(table_name, columns)\u001B[0m\n\u001B[1;32m     34\u001B[0m         \u001B[38;5;28;01mreturn\u001B[39;00m pd\u001B[38;5;241m.\u001B[39mInterval(left\u001B[38;5;241m=\u001B[39mv[\u001B[38;5;241m0\u001B[39m], right\u001B[38;5;241m=\u001B[39mv[\u001B[38;5;241m1\u001B[39m])\n\u001B[1;32m     35\u001B[0m     \u001B[38;5;28;01mreturn\u001B[39;00m v\n\u001B[0;32m---> 37\u001B[0m model\u001B[38;5;241m.\u001B[39m__validators__[\u001B[38;5;124m'\u001B[39m\u001B[38;5;124mconvert_dateinvl\u001B[39m\u001B[38;5;124m'\u001B[39m] \u001B[38;5;241m=\u001B[39m convert_dateinvl\n\u001B[1;32m     39\u001B[0m \u001B[38;5;28;01mreturn\u001B[39;00m model\n",
      "File \u001B[0;32m~/miniconda3/envs/dbms-env/lib/python3.11/site-packages/pydantic/_internal/_model_construction.py:237\u001B[0m, in \u001B[0;36mModelMetaclass.__getattr__\u001B[0;34m(self, item)\u001B[0m\n\u001B[1;32m    235\u001B[0m \u001B[38;5;28;01mif\u001B[39;00m private_attributes \u001B[38;5;129;01mand\u001B[39;00m item \u001B[38;5;129;01min\u001B[39;00m private_attributes:\n\u001B[1;32m    236\u001B[0m     \u001B[38;5;28;01mreturn\u001B[39;00m private_attributes[item]\n\u001B[0;32m--> 237\u001B[0m \u001B[38;5;28;01mraise\u001B[39;00m \u001B[38;5;167;01mAttributeError\u001B[39;00m(item)\n",
      "\u001B[0;31mAttributeError\u001B[0m: __validators__"
     ]
    }
   ],
   "source": [
    "test_schema = generate_schema('test_table', {\n",
    "        \"user_id\": \"int\",\n",
    "        \"username\": \"string\",\n",
    "        \"dateinvl\": \"dateinvl\",\n",
    "        \"signup_date\": \"datetime\"\n",
    "    })"
   ],
   "metadata": {
    "collapsed": false,
    "ExecuteTime": {
     "end_time": "2024-10-16T00:39:12.495451800Z",
     "start_time": "2024-10-16T00:39:11.914094800Z"
    }
   },
   "id": "e8f9b9272bd24687"
  },
  {
   "cell_type": "code",
   "execution_count": 3,
   "outputs": [
    {
     "data": {
      "text/plain": "{'user_id': FieldInfo(annotation=int, required=True),\n 'username': FieldInfo(annotation=str, required=True),\n 'dateinvl': FieldInfo(annotation=Tuple[datetime, datetime], required=True),\n 'signup_date': FieldInfo(annotation=datetime, required=True)}"
     },
     "execution_count": 3,
     "metadata": {},
     "output_type": "execute_result"
    }
   ],
   "source": [
    "test_schema.model_fields"
   ],
   "metadata": {
    "collapsed": false,
    "ExecuteTime": {
     "end_time": "2024-10-16T00:36:24.276789300Z",
     "start_time": "2024-10-16T00:36:24.198235900Z"
    }
   },
   "id": "3e60e8d1730d5c79"
  },
  {
   "cell_type": "code",
   "execution_count": 4,
   "outputs": [],
   "source": [
    "test_table = Table(\n",
    "    name='test',\n",
    "    schema=test_schema\n",
    ")"
   ],
   "metadata": {
    "collapsed": false,
    "ExecuteTime": {
     "end_time": "2024-10-16T00:36:24.423409400Z",
     "start_time": "2024-10-16T00:36:24.415596300Z"
    }
   },
   "id": "75fe96e40c8d9de3"
  },
  {
   "cell_type": "code",
   "execution_count": 5,
   "outputs": [
    {
     "data": {
      "text/plain": "user_id                         int64\nusername                       object\ndateinvl       interval[int64, right]\nsignup_date            datetime64[ns]\ndtype: object"
     },
     "execution_count": 5,
     "metadata": {},
     "output_type": "execute_result"
    }
   ],
   "source": [
    "test_table._dataframe.dtypes"
   ],
   "metadata": {
    "collapsed": false,
    "ExecuteTime": {
     "end_time": "2024-10-16T00:36:25.236924500Z",
     "start_time": "2024-10-16T00:36:25.209224600Z"
    }
   },
   "id": "1583a4b76147c28"
  },
  {
   "cell_type": "code",
   "execution_count": 6,
   "outputs": [],
   "source": [
    "test_table.insert({\n",
    "    \"user_id\": 1,\n",
    "    \"username\": \"test\",\n",
    "    \"dateinvl\": (\"2021-01-01\", \"2024-01-01\"),\n",
    "    \"signup_date\": \"2021-01-01T00:00:00\"\n",
    "})"
   ],
   "metadata": {
    "collapsed": false,
    "ExecuteTime": {
     "end_time": "2024-10-16T00:36:26.339450Z",
     "start_time": "2024-10-16T00:36:26.335961900Z"
    }
   },
   "id": "e057af7964216840"
  },
  {
   "cell_type": "code",
   "execution_count": 6,
   "outputs": [],
   "source": [],
   "metadata": {
    "collapsed": false,
    "ExecuteTime": {
     "end_time": "2024-10-16T00:36:27.711436300Z",
     "start_time": "2024-10-16T00:36:27.682142Z"
    }
   },
   "id": "ad868c61f2c53953"
  },
  {
   "cell_type": "code",
   "execution_count": 7,
   "outputs": [
    {
     "data": {
      "text/plain": "{'user_id': 1,\n 'username': 'test',\n 'dateinvl': (datetime.datetime(2021, 1, 1, 0, 0),\n  datetime.datetime(2024, 1, 1, 0, 0)),\n 'signup_date': datetime.datetime(2021, 1, 1, 0, 0)}"
     },
     "execution_count": 7,
     "metadata": {},
     "output_type": "execute_result"
    }
   ],
   "source": [
    "dict(test_table.schema(**{\n",
    "    \"user_id\": 1,\n",
    "    \"username\": \"test\",\n",
    "    \"dateinvl\": (\"2021-01-01\", \"2024-01-01\"),\n",
    "    \"signup_date\": \"2021-01-01T00:00:00\"\n",
    "}))"
   ],
   "metadata": {
    "collapsed": false,
    "ExecuteTime": {
     "end_time": "2024-10-16T00:36:28.497372100Z",
     "start_time": "2024-10-16T00:36:28.439627800Z"
    }
   },
   "id": "313f723314ff10fd"
  },
  {
   "cell_type": "code",
   "execution_count": 8,
   "outputs": [
    {
     "ename": "ValueError",
     "evalue": "If using all scalar values, you must pass an index",
     "output_type": "error",
     "traceback": [
      "\u001B[0;31m---------------------------------------------------------------------------\u001B[0m",
      "\u001B[0;31mValueError\u001B[0m                                Traceback (most recent call last)",
      "Cell \u001B[0;32mIn[8], line 1\u001B[0m\n\u001B[0;32m----> 1\u001B[0m test_table\u001B[38;5;241m.\u001B[39m_dataframe\u001B[38;5;241m.\u001B[39mupdate({ \u001B[38;5;124m'\u001B[39m\u001B[38;5;124muser_id\u001B[39m\u001B[38;5;124m'\u001B[39m: \u001B[38;5;241m1\u001B[39m, \u001B[38;5;124m'\u001B[39m\u001B[38;5;124musername\u001B[39m\u001B[38;5;124m'\u001B[39m: \u001B[38;5;124m'\u001B[39m\u001B[38;5;124mtest\u001B[39m\u001B[38;5;124m'\u001B[39m, \u001B[38;5;124m'\u001B[39m\u001B[38;5;124mdateinvl\u001B[39m\u001B[38;5;124m'\u001B[39m: pd\u001B[38;5;241m.\u001B[39mInterval(left\u001B[38;5;241m=\u001B[39mpd\u001B[38;5;241m.\u001B[39mto_datetime(\u001B[38;5;124m'\u001B[39m\u001B[38;5;124m2021-01-01\u001B[39m\u001B[38;5;124m'\u001B[39m), right\u001B[38;5;241m=\u001B[39mpd\u001B[38;5;241m.\u001B[39mto_datetime(\u001B[38;5;124m'\u001B[39m\u001B[38;5;124m2024-01-01\u001B[39m\u001B[38;5;124m'\u001B[39m)), \u001B[38;5;124m'\u001B[39m\u001B[38;5;124msignup_date\u001B[39m\u001B[38;5;124m'\u001B[39m: \u001B[38;5;124m'\u001B[39m\u001B[38;5;124m2021-01-01T00:00:00\u001B[39m\u001B[38;5;124m'\u001B[39m})\n",
      "File \u001B[0;32m~/miniconda3/envs/dbms-env/lib/python3.11/site-packages/pandas/core/frame.py:9001\u001B[0m, in \u001B[0;36mDataFrame.update\u001B[0;34m(self, other, join, overwrite, filter_func, errors)\u001B[0m\n\u001B[1;32m   8998\u001B[0m     \u001B[38;5;28;01mraise\u001B[39;00m \u001B[38;5;167;01mValueError\u001B[39;00m(\u001B[38;5;124m\"\u001B[39m\u001B[38;5;124mThe parameter errors must be either \u001B[39m\u001B[38;5;124m'\u001B[39m\u001B[38;5;124mignore\u001B[39m\u001B[38;5;124m'\u001B[39m\u001B[38;5;124m or \u001B[39m\u001B[38;5;124m'\u001B[39m\u001B[38;5;124mraise\u001B[39m\u001B[38;5;124m'\u001B[39m\u001B[38;5;124m\"\u001B[39m)\n\u001B[1;32m   9000\u001B[0m \u001B[38;5;28;01mif\u001B[39;00m \u001B[38;5;129;01mnot\u001B[39;00m \u001B[38;5;28misinstance\u001B[39m(other, DataFrame):\n\u001B[0;32m-> 9001\u001B[0m     other \u001B[38;5;241m=\u001B[39m DataFrame(other)\n\u001B[1;32m   9003\u001B[0m other \u001B[38;5;241m=\u001B[39m other\u001B[38;5;241m.\u001B[39mreindex(\u001B[38;5;28mself\u001B[39m\u001B[38;5;241m.\u001B[39mindex)\n\u001B[1;32m   9005\u001B[0m \u001B[38;5;28;01mfor\u001B[39;00m col \u001B[38;5;129;01min\u001B[39;00m \u001B[38;5;28mself\u001B[39m\u001B[38;5;241m.\u001B[39mcolumns\u001B[38;5;241m.\u001B[39mintersection(other\u001B[38;5;241m.\u001B[39mcolumns):\n",
      "File \u001B[0;32m~/miniconda3/envs/dbms-env/lib/python3.11/site-packages/pandas/core/frame.py:778\u001B[0m, in \u001B[0;36mDataFrame.__init__\u001B[0;34m(self, data, index, columns, dtype, copy)\u001B[0m\n\u001B[1;32m    772\u001B[0m     mgr \u001B[38;5;241m=\u001B[39m \u001B[38;5;28mself\u001B[39m\u001B[38;5;241m.\u001B[39m_init_mgr(\n\u001B[1;32m    773\u001B[0m         data, axes\u001B[38;5;241m=\u001B[39m{\u001B[38;5;124m\"\u001B[39m\u001B[38;5;124mindex\u001B[39m\u001B[38;5;124m\"\u001B[39m: index, \u001B[38;5;124m\"\u001B[39m\u001B[38;5;124mcolumns\u001B[39m\u001B[38;5;124m\"\u001B[39m: columns}, dtype\u001B[38;5;241m=\u001B[39mdtype, copy\u001B[38;5;241m=\u001B[39mcopy\n\u001B[1;32m    774\u001B[0m     )\n\u001B[1;32m    776\u001B[0m \u001B[38;5;28;01melif\u001B[39;00m \u001B[38;5;28misinstance\u001B[39m(data, \u001B[38;5;28mdict\u001B[39m):\n\u001B[1;32m    777\u001B[0m     \u001B[38;5;66;03m# GH#38939 de facto copy defaults to False only in non-dict cases\u001B[39;00m\n\u001B[0;32m--> 778\u001B[0m     mgr \u001B[38;5;241m=\u001B[39m dict_to_mgr(data, index, columns, dtype\u001B[38;5;241m=\u001B[39mdtype, copy\u001B[38;5;241m=\u001B[39mcopy, typ\u001B[38;5;241m=\u001B[39mmanager)\n\u001B[1;32m    779\u001B[0m \u001B[38;5;28;01melif\u001B[39;00m \u001B[38;5;28misinstance\u001B[39m(data, ma\u001B[38;5;241m.\u001B[39mMaskedArray):\n\u001B[1;32m    780\u001B[0m     \u001B[38;5;28;01mfrom\u001B[39;00m \u001B[38;5;21;01mnumpy\u001B[39;00m\u001B[38;5;21;01m.\u001B[39;00m\u001B[38;5;21;01mma\u001B[39;00m \u001B[38;5;28;01mimport\u001B[39;00m mrecords\n",
      "File \u001B[0;32m~/miniconda3/envs/dbms-env/lib/python3.11/site-packages/pandas/core/internals/construction.py:503\u001B[0m, in \u001B[0;36mdict_to_mgr\u001B[0;34m(data, index, columns, dtype, typ, copy)\u001B[0m\n\u001B[1;32m    499\u001B[0m     \u001B[38;5;28;01melse\u001B[39;00m:\n\u001B[1;32m    500\u001B[0m         \u001B[38;5;66;03m# dtype check to exclude e.g. range objects, scalars\u001B[39;00m\n\u001B[1;32m    501\u001B[0m         arrays \u001B[38;5;241m=\u001B[39m [x\u001B[38;5;241m.\u001B[39mcopy() \u001B[38;5;28;01mif\u001B[39;00m \u001B[38;5;28mhasattr\u001B[39m(x, \u001B[38;5;124m\"\u001B[39m\u001B[38;5;124mdtype\u001B[39m\u001B[38;5;124m\"\u001B[39m) \u001B[38;5;28;01melse\u001B[39;00m x \u001B[38;5;28;01mfor\u001B[39;00m x \u001B[38;5;129;01min\u001B[39;00m arrays]\n\u001B[0;32m--> 503\u001B[0m \u001B[38;5;28;01mreturn\u001B[39;00m arrays_to_mgr(arrays, columns, index, dtype\u001B[38;5;241m=\u001B[39mdtype, typ\u001B[38;5;241m=\u001B[39mtyp, consolidate\u001B[38;5;241m=\u001B[39mcopy)\n",
      "File \u001B[0;32m~/miniconda3/envs/dbms-env/lib/python3.11/site-packages/pandas/core/internals/construction.py:114\u001B[0m, in \u001B[0;36marrays_to_mgr\u001B[0;34m(arrays, columns, index, dtype, verify_integrity, typ, consolidate)\u001B[0m\n\u001B[1;32m    111\u001B[0m \u001B[38;5;28;01mif\u001B[39;00m verify_integrity:\n\u001B[1;32m    112\u001B[0m     \u001B[38;5;66;03m# figure out the index, if necessary\u001B[39;00m\n\u001B[1;32m    113\u001B[0m     \u001B[38;5;28;01mif\u001B[39;00m index \u001B[38;5;129;01mis\u001B[39;00m \u001B[38;5;28;01mNone\u001B[39;00m:\n\u001B[0;32m--> 114\u001B[0m         index \u001B[38;5;241m=\u001B[39m _extract_index(arrays)\n\u001B[1;32m    115\u001B[0m     \u001B[38;5;28;01melse\u001B[39;00m:\n\u001B[1;32m    116\u001B[0m         index \u001B[38;5;241m=\u001B[39m ensure_index(index)\n",
      "File \u001B[0;32m~/miniconda3/envs/dbms-env/lib/python3.11/site-packages/pandas/core/internals/construction.py:667\u001B[0m, in \u001B[0;36m_extract_index\u001B[0;34m(data)\u001B[0m\n\u001B[1;32m    664\u001B[0m         \u001B[38;5;28;01mraise\u001B[39;00m \u001B[38;5;167;01mValueError\u001B[39;00m(\u001B[38;5;124m\"\u001B[39m\u001B[38;5;124mPer-column arrays must each be 1-dimensional\u001B[39m\u001B[38;5;124m\"\u001B[39m)\n\u001B[1;32m    666\u001B[0m \u001B[38;5;28;01mif\u001B[39;00m \u001B[38;5;129;01mnot\u001B[39;00m indexes \u001B[38;5;129;01mand\u001B[39;00m \u001B[38;5;129;01mnot\u001B[39;00m raw_lengths:\n\u001B[0;32m--> 667\u001B[0m     \u001B[38;5;28;01mraise\u001B[39;00m \u001B[38;5;167;01mValueError\u001B[39;00m(\u001B[38;5;124m\"\u001B[39m\u001B[38;5;124mIf using all scalar values, you must pass an index\u001B[39m\u001B[38;5;124m\"\u001B[39m)\n\u001B[1;32m    669\u001B[0m \u001B[38;5;28;01mif\u001B[39;00m have_series:\n\u001B[1;32m    670\u001B[0m     index \u001B[38;5;241m=\u001B[39m union_indexes(indexes)\n",
      "\u001B[0;31mValueError\u001B[0m: If using all scalar values, you must pass an index"
     ]
    }
   ],
   "source": [
    "test_table._dataframe.update({ 'user_id': 1, 'username': 'test', 'dateinvl': pd.Interval(left=pd.to_datetime('2021-01-01'), right=pd.to_datetime('2024-01-01')), 'signup_date': '2021-01-01T00:00:00'})"
   ],
   "metadata": {
    "collapsed": false,
    "ExecuteTime": {
     "end_time": "2024-10-16T00:36:34.189613900Z",
     "start_time": "2024-10-16T00:36:32.891277300Z"
    }
   },
   "id": "42b97a3b889eb1b1"
  },
  {
   "cell_type": "code",
   "execution_count": 9,
   "outputs": [],
   "source": [
    "test_table.drop_duplicates()"
   ],
   "metadata": {
    "collapsed": false,
    "ExecuteTime": {
     "end_time": "2024-10-16T00:36:35.937725100Z",
     "start_time": "2024-10-16T00:36:35.923245Z"
    }
   },
   "id": "48f20dcfd109e9f2"
  },
  {
   "cell_type": "code",
   "execution_count": 10,
   "outputs": [
    {
     "data": {
      "text/plain": "   user_id username dateinvl signup_date            0  \\\n0      NaN      NaN      NaN         NaT      user_id   \n1      NaN      NaN      NaN         NaT     username   \n2      NaN      NaN      NaN         NaT     dateinvl   \n3      NaN      NaN      NaN         NaT  signup_date   \n\n                                            1  \n0                                           1  \n1                                        test  \n2  (2021-01-01 00:00:00, 2024-01-01 00:00:00)  \n3                         2021-01-01 00:00:00  ",
      "text/html": "<div>\n<style scoped>\n    .dataframe tbody tr th:only-of-type {\n        vertical-align: middle;\n    }\n\n    .dataframe tbody tr th {\n        vertical-align: top;\n    }\n\n    .dataframe thead th {\n        text-align: right;\n    }\n</style>\n<table border=\"1\" class=\"dataframe\">\n  <thead>\n    <tr style=\"text-align: right;\">\n      <th></th>\n      <th>user_id</th>\n      <th>username</th>\n      <th>dateinvl</th>\n      <th>signup_date</th>\n      <th>0</th>\n      <th>1</th>\n    </tr>\n  </thead>\n  <tbody>\n    <tr>\n      <th>0</th>\n      <td>NaN</td>\n      <td>NaN</td>\n      <td>NaN</td>\n      <td>NaT</td>\n      <td>user_id</td>\n      <td>1</td>\n    </tr>\n    <tr>\n      <th>1</th>\n      <td>NaN</td>\n      <td>NaN</td>\n      <td>NaN</td>\n      <td>NaT</td>\n      <td>username</td>\n      <td>test</td>\n    </tr>\n    <tr>\n      <th>2</th>\n      <td>NaN</td>\n      <td>NaN</td>\n      <td>NaN</td>\n      <td>NaT</td>\n      <td>dateinvl</td>\n      <td>(2021-01-01 00:00:00, 2024-01-01 00:00:00)</td>\n    </tr>\n    <tr>\n      <th>3</th>\n      <td>NaN</td>\n      <td>NaN</td>\n      <td>NaN</td>\n      <td>NaT</td>\n      <td>signup_date</td>\n      <td>2021-01-01 00:00:00</td>\n    </tr>\n  </tbody>\n</table>\n</div>"
     },
     "execution_count": 10,
     "metadata": {},
     "output_type": "execute_result"
    }
   ],
   "source": [
    "test_table._dataframe"
   ],
   "metadata": {
    "collapsed": false,
    "ExecuteTime": {
     "end_time": "2024-10-16T00:36:45.104768400Z",
     "start_time": "2024-10-16T00:36:45.060472600Z"
    }
   },
   "id": "23a8493d7f5dca6c"
  },
  {
   "cell_type": "code",
   "execution_count": null,
   "outputs": [],
   "source": [],
   "metadata": {
    "collapsed": false
   },
   "id": "80469b3deb4fe146"
  }
 ],
 "metadata": {
  "kernelspec": {
   "display_name": "Python 3",
   "language": "python",
   "name": "python3"
  },
  "language_info": {
   "codemirror_mode": {
    "name": "ipython",
    "version": 2
   },
   "file_extension": ".py",
   "mimetype": "text/x-python",
   "name": "python",
   "nbconvert_exporter": "python",
   "pygments_lexer": "ipython2",
   "version": "2.7.6"
  }
 },
 "nbformat": 4,
 "nbformat_minor": 5
}
